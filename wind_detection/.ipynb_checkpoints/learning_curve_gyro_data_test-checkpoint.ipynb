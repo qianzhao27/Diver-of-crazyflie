{
 "cells": [
  {
   "cell_type": "code",
   "execution_count": 1,
   "metadata": {},
   "outputs": [
    {
     "name": "stderr",
     "output_type": "stream",
     "text": [
      "/home/zeus/anaconda3/lib/python3.7/site-packages/sklearn/ensemble/weight_boosting.py:29: DeprecationWarning: numpy.core.umath_tests is an internal NumPy module and should not be imported. It will be removed in a future NumPy release.\n",
      "  from numpy.core.umath_tests import inner1d\n"
     ]
    }
   ],
   "source": [
    "import numpy as np\n",
    "import matplotlib.pyplot as plt\n",
    "from sklearn.datasets import load_digits\n",
    "from sklearn.model_selection import learning_curve\n",
    "from sklearn.model_selection import ShuffleSplit\n",
    "from main.data_storage import DataContianer\n",
    "from sklearn.tree import DecisionTreeClassifier\n",
    "from sklearn.ensemble import RandomForestClassifier, GradientBoostingClassifier\n",
    "\n",
    "import warnings\n",
    "warnings.filterwarnings('ignore')\n",
    "%matplotlib inline"
   ]
  },
  {
   "cell_type": "code",
   "execution_count": 2,
   "metadata": {},
   "outputs": [],
   "source": [
    "def plot_learning_curve(estimator, title, X, y, ylim=None, cv=None,\n",
    "                        n_jobs=1, train_sizes=np.linspace(.1, 1.0, 5)):\n",
    "    \"\"\"\n",
    "    Generate a simple plot of the test and training learning curve.\n",
    "\n",
    "    Parameters\n",
    "    ----------\n",
    "    estimator : object type that implements the \"fit\" and \"predict\" methods\n",
    "        An object of that type which is cloned for each validation.\n",
    "\n",
    "    title : string\n",
    "        Title for the chart.\n",
    "\n",
    "    X : array-like, shape (n_samples, n_features)\n",
    "        Training vector, where n_samples is the number of samples and\n",
    "        n_features is the number of features.\n",
    "\n",
    "    y : array-like, shape (n_samples) or (n_samples, n_features), optional\n",
    "        Target relative to X for classification or regression;\n",
    "        None for unsupervised learning.\n",
    "\n",
    "    ylim : tuple, shape (ymin, ymax), optional\n",
    "        Defines minimum and maximum yvalues plotted.\n",
    "\n",
    "    cv : int, cross-validation generator or an iterable, optional\n",
    "        Determines the cross-validation splitting strategy.\n",
    "        Possible inputs for cv are:\n",
    "          - None, to use the default 3-fold cross-validation,\n",
    "          - integer, to specify the number of folds.\n",
    "          - An object to be used as a cross-validation generator.\n",
    "          - An iterable yielding train/test splits.\n",
    "\n",
    "        For integer/None inputs, if ``y`` is binary or multiclass,\n",
    "        :class:`StratifiedKFold` used. If the estimator is not a classifier\n",
    "        or if ``y`` is neither binary nor multiclass, :class:`KFold` is used.\n",
    "\n",
    "        Refer :ref:`User Guide <cross_validation>` for the various\n",
    "        cross-validators that can be used here.\n",
    "\n",
    "    n_jobs : integer, optional\n",
    "        Number of jobs to run in parallel (default 1).\n",
    "    \"\"\"\n",
    "    plt.figure()\n",
    "    plt.title(title)\n",
    "    if ylim is not None:\n",
    "        plt.ylim(*ylim)\n",
    "    plt.xlabel(\"Training examples\")\n",
    "    plt.ylabel(\"Score\")\n",
    "    train_sizes, train_scores, test_scores = learning_curve(\n",
    "        estimator, X, y, cv=cv, n_jobs=n_jobs, train_sizes=train_sizes)\n",
    "    train_scores_mean = np.mean(train_scores, axis=1)\n",
    "    train_scores_std = np.std(train_scores, axis=1)\n",
    "    test_scores_mean = np.mean(test_scores, axis=1)\n",
    "    test_scores_std = np.std(test_scores, axis=1)\n",
    "    plt.grid()\n",
    "\n",
    "    plt.fill_between(train_sizes, train_scores_mean - train_scores_std,\n",
    "                     train_scores_mean + train_scores_std, alpha=0.1,\n",
    "                     color=\"r\")\n",
    "    plt.fill_between(train_sizes, test_scores_mean - test_scores_std,\n",
    "                     test_scores_mean + test_scores_std, alpha=0.1, color=\"g\")\n",
    "    plt.plot(train_sizes, train_scores_mean, 'o-', color=\"r\",\n",
    "             label=\"Training score\")\n",
    "    plt.plot(train_sizes, test_scores_mean, 'o-', color=\"g\",\n",
    "             label=\"Cross-validation score\")\n",
    "\n",
    "    plt.legend(loc=\"best\")\n",
    "    return plt\n"
   ]
  },
  {
   "cell_type": "code",
   "execution_count": 3,
   "metadata": {},
   "outputs": [],
   "source": [
    "drone1 = \"drone1\"\n",
    "drone2 = \"drone2\"\n",
    "drone3 = \"drone3\"\n",
    "drone4 = \"drone4\"\n",
    "title_rf='Learning Curve (Random Forest)'\n",
    "title_gb='Learning Curve (Gradient Boosting)'"
   ]
  },
  {
   "cell_type": "code",
   "execution_count": 4,
   "metadata": {},
   "outputs": [],
   "source": [
    "cv = ShuffleSplit(n_splits=3, test_size=.25, random_state=0)"
   ]
  },
  {
   "cell_type": "markdown",
   "metadata": {},
   "source": [
    "# Load and Combine Data"
   ]
  },
  {
   "cell_type": "code",
   "execution_count": null,
   "metadata": {},
   "outputs": [],
   "source": [
    "d1 = DataContianer('drone1', 'gyro', 4, reduce_noise=False, k=0, is_directional=False)\n",
    "d2 = DataContianer('drone2', 'gyro', 4, reduce_noise=False, k=0, is_directional=False)\n",
    "d4 = DataContianer('drone4', 'gyro', 4, reduce_noise=False, k=0, is_directional=False)\n",
    "\n",
    "X_train = d1.X_train_transformed\n",
    "X_train = X_train.append(d2.X_train_transformed, ignore_index=True)\n",
    "X_train = X_train.append(d4.X_train_transformed, ignore_index=True)\n",
    "\n",
    "y_train = d1.y_train_transformed\n",
    "y_train = np.append(y_train, d2.y_train_transformed)\n",
    "y_train = np.append(y_train, d4.y_train_transformed)\n",
    "\n",
    "X_test = d1.X_test_transformed\n",
    "X_test = X_test.append(d2.X_test_transformed, ignore_index=True)\n",
    "X_test = X_test.append(d4.X_test_transformed, ignore_index=True)\n",
    "\n",
    "y_test = d1.y_test_transformed\n",
    "y_test = np.append(y_test, d2.y_test_transformed)\n",
    "y_test = np.append(y_test, d4.y_test_transformed)"
   ]
  },
  {
   "cell_type": "markdown",
   "metadata": {},
   "source": [
    "# Random Forest"
   ]
  },
  {
   "cell_type": "code",
   "execution_count": null,
   "metadata": {},
   "outputs": [],
   "source": [
    "rf = RandomForestClassifier(random_state=13)"
   ]
  },
  {
   "cell_type": "code",
   "execution_count": null,
   "metadata": {},
   "outputs": [],
   "source": [
    "plot_learning_curve(rf, title_rf, X_train, y_train, ylim=None, cv=cv,\n",
    "                        n_jobs=-1, train_sizes=np.linspace(.1, 1.0, 5))\n",
    "plt.show()"
   ]
  },
  {
   "cell_type": "markdown",
   "metadata": {},
   "source": [
    "# Gradient Boosting"
   ]
  },
  {
   "cell_type": "code",
   "execution_count": 11,
   "metadata": {},
   "outputs": [],
   "source": [
    "gb = GradientBoostingClassifier(random_state=13)"
   ]
  },
  {
   "cell_type": "code",
   "execution_count": 12,
   "metadata": {
    "scrolled": true
   },
   "outputs": [
    {
     "data": {
      "image/png": "[encoded data removed]",
      "text/plain": [
       "<Figure size 432x288 with 1 Axes>"
      ]
     },
     "metadata": {},
     "output_type": "display_data"
    }
   ],
   "source": [
    "plot_learning_curve(gb, title_gb, X_train, y_train, ylim=None, cv=cv,\n",
    "                        n_jobs=-1, train_sizes=np.linspace(.1, 1.0, 5))\n",
    "plt.show()"
   ]
  },
  {
   "cell_type": "markdown",
   "metadata": {},
   "source": [
    "# Drone 1"
   ]
  },
  {
   "cell_type": "code",
   "execution_count": 41,
   "metadata": {},
   "outputs": [],
   "source": [
    "import pandas as pd"
   ]
  },
  {
   "cell_type": "code",
   "execution_count": 48,
   "metadata": {},
   "outputs": [],
   "source": [
    "drone1_gyro_data = DataContianer(drone1, 'gyro', 4)"
   ]
  },
  {
   "cell_type": "code",
   "execution_count": 49,
   "metadata": {},
   "outputs": [
    {
     "data": {
      "text/html": [
       "<div>\n",
       "<style scoped>\n",
       "    .dataframe tbody tr th:only-of-type {\n",
       "        vertical-align: middle;\n",
       "    }\n",
       "\n",
       "    .dataframe tbody tr th {\n",
       "        vertical-align: top;\n",
       "    }\n",
       "\n",
       "    .dataframe thead th {\n",
       "        text-align: right;\n",
       "    }\n",
       "</style>\n",
       "<table border=\"1\" class=\"dataframe\">\n",
       "  <thead>\n",
       "    <tr style=\"text-align: right;\">\n",
       "      <th></th>\n",
       "      <th>mu_x_gyro</th>\n",
       "      <th>mu_y_gyro</th>\n",
       "      <th>mu_z_gyro</th>\n",
       "      <th>std_x_gyro</th>\n",
       "      <th>std_y_gyro</th>\n",
       "      <th>std_z_gyro</th>\n",
       "      <th>avg_resultant_acc_gyro</th>\n",
       "      <th>bin_0_gyro</th>\n",
       "      <th>bin_1_gyro</th>\n",
       "      <th>bin_2_gyro</th>\n",
       "      <th>...</th>\n",
       "      <th>bin_23_gyro</th>\n",
       "      <th>bin_24_gyro</th>\n",
       "      <th>bin_25_gyro</th>\n",
       "      <th>bin_26_gyro</th>\n",
       "      <th>bin_27_gyro</th>\n",
       "      <th>bin_28_gyro</th>\n",
       "      <th>bin_29_gyro</th>\n",
       "      <th>mean_abs_difference_x_gyro</th>\n",
       "      <th>mean_abs_difference_y_gyro</th>\n",
       "      <th>mean_abs_difference_z_gyro</th>\n",
       "    </tr>\n",
       "  </thead>\n",
       "  <tbody>\n",
       "    <tr>\n",
       "      <th>0</th>\n",
       "      <td>-0.013751</td>\n",
       "      <td>0.006414</td>\n",
       "      <td>0.084951</td>\n",
       "      <td>50.785694</td>\n",
       "      <td>42.236212</td>\n",
       "      <td>14.389573</td>\n",
       "      <td>60.605176</td>\n",
       "      <td>4.65349</td>\n",
       "      <td>5.844754</td>\n",
       "      <td>9.058861</td>\n",
       "      <td>...</td>\n",
       "      <td>13.164978</td>\n",
       "      <td>14.42333</td>\n",
       "      <td>13.37875</td>\n",
       "      <td>10.927728</td>\n",
       "      <td>8.722685</td>\n",
       "      <td>6.721514</td>\n",
       "      <td>6.42925</td>\n",
       "      <td>40.375568</td>\n",
       "      <td>33.424658</td>\n",
       "      <td>11.534123</td>\n",
       "    </tr>\n",
       "  </tbody>\n",
       "</table>\n",
       "<p>1 rows × 40 columns</p>\n",
       "</div>"
      ],
      "text/plain": [
       "   mu_x_gyro  mu_y_gyro  mu_z_gyro  std_x_gyro  std_y_gyro  std_z_gyro  \\\n",
       "0  -0.013751   0.006414   0.084951   50.785694   42.236212   14.389573   \n",
       "\n",
       "   avg_resultant_acc_gyro  bin_0_gyro  bin_1_gyro  bin_2_gyro  \\\n",
       "0               60.605176     4.65349    5.844754    9.058861   \n",
       "\n",
       "              ...              bin_23_gyro  bin_24_gyro  bin_25_gyro  \\\n",
       "0             ...                13.164978     14.42333     13.37875   \n",
       "\n",
       "   bin_26_gyro  bin_27_gyro  bin_28_gyro  bin_29_gyro  \\\n",
       "0    10.927728     8.722685     6.721514      6.42925   \n",
       "\n",
       "   mean_abs_difference_x_gyro  mean_abs_difference_y_gyro  \\\n",
       "0                   40.375568                   33.424658   \n",
       "\n",
       "   mean_abs_difference_z_gyro  \n",
       "0                   11.534123  \n",
       "\n",
       "[1 rows x 40 columns]"
      ]
     },
     "execution_count": 49,
     "metadata": {},
     "output_type": "execute_result"
    }
   ],
   "source": [
    "pd.DataFrame(drone1_gyro_data.X_train_transformed[drone1_gyro_data.y_train_transformed==3].mean()).T"
   ]
  },
  {
   "cell_type": "code",
   "execution_count": 54,
   "metadata": {
    "scrolled": true
   },
   "outputs": [
    {
     "data": {
      "text/html": [
       "<div>\n",
       "<style scoped>\n",
       "    .dataframe tbody tr th:only-of-type {\n",
       "        vertical-align: middle;\n",
       "    }\n",
       "\n",
       "    .dataframe tbody tr th {\n",
       "        vertical-align: top;\n",
       "    }\n",
       "\n",
       "    .dataframe thead th {\n",
       "        text-align: right;\n",
       "    }\n",
       "</style>\n",
       "<table border=\"1\" class=\"dataframe\">\n",
       "  <thead>\n",
       "    <tr style=\"text-align: right;\">\n",
       "      <th></th>\n",
       "      <th>mu_x_gyro</th>\n",
       "      <th>mu_y_gyro</th>\n",
       "      <th>mu_z_gyro</th>\n",
       "      <th>std_x_gyro</th>\n",
       "      <th>std_y_gyro</th>\n",
       "      <th>std_z_gyro</th>\n",
       "      <th>avg_resultant_acc_gyro</th>\n",
       "      <th>bin_0_gyro</th>\n",
       "      <th>bin_1_gyro</th>\n",
       "      <th>bin_2_gyro</th>\n",
       "      <th>...</th>\n",
       "      <th>bin_23_gyro</th>\n",
       "      <th>bin_24_gyro</th>\n",
       "      <th>bin_25_gyro</th>\n",
       "      <th>bin_26_gyro</th>\n",
       "      <th>bin_27_gyro</th>\n",
       "      <th>bin_28_gyro</th>\n",
       "      <th>bin_29_gyro</th>\n",
       "      <th>mean_abs_difference_x_gyro</th>\n",
       "      <th>mean_abs_difference_y_gyro</th>\n",
       "      <th>mean_abs_difference_z_gyro</th>\n",
       "    </tr>\n",
       "  </thead>\n",
       "  <tbody>\n",
       "    <tr>\n",
       "      <th>0</th>\n",
       "      <td>0.047715</td>\n",
       "      <td>-0.067704</td>\n",
       "      <td>0.126859</td>\n",
       "      <td>31.154679</td>\n",
       "      <td>26.144627</td>\n",
       "      <td>14.341835</td>\n",
       "      <td>39.008868</td>\n",
       "      <td>4.425905</td>\n",
       "      <td>5.099227</td>\n",
       "      <td>8.177686</td>\n",
       "      <td>...</td>\n",
       "      <td>12.282867</td>\n",
       "      <td>12.469081</td>\n",
       "      <td>12.323835</td>\n",
       "      <td>10.729106</td>\n",
       "      <td>8.808234</td>\n",
       "      <td>6.948229</td>\n",
       "      <td>8.019899</td>\n",
       "      <td>24.404441</td>\n",
       "      <td>20.78382</td>\n",
       "      <td>11.591987</td>\n",
       "    </tr>\n",
       "  </tbody>\n",
       "</table>\n",
       "<p>1 rows × 40 columns</p>\n",
       "</div>"
      ],
      "text/plain": [
       "   mu_x_gyro  mu_y_gyro  mu_z_gyro  std_x_gyro  std_y_gyro  std_z_gyro  \\\n",
       "0   0.047715  -0.067704   0.126859   31.154679   26.144627   14.341835   \n",
       "\n",
       "   avg_resultant_acc_gyro  bin_0_gyro  bin_1_gyro  bin_2_gyro  \\\n",
       "0               39.008868    4.425905    5.099227    8.177686   \n",
       "\n",
       "              ...              bin_23_gyro  bin_24_gyro  bin_25_gyro  \\\n",
       "0             ...                12.282867    12.469081    12.323835   \n",
       "\n",
       "   bin_26_gyro  bin_27_gyro  bin_28_gyro  bin_29_gyro  \\\n",
       "0    10.729106     8.808234     6.948229     8.019899   \n",
       "\n",
       "   mean_abs_difference_x_gyro  mean_abs_difference_y_gyro  \\\n",
       "0                   24.404441                    20.78382   \n",
       "\n",
       "   mean_abs_difference_z_gyro  \n",
       "0                   11.591987  \n",
       "\n",
       "[1 rows x 40 columns]"
      ]
     },
     "execution_count": 54,
     "metadata": {},
     "output_type": "execute_result"
    }
   ],
   "source": [
    "pd.DataFrame(drone1_gyro_data.X_train_transformed[drone1_gyro_data.y_train_transformed==2].mean()).T"
   ]
  },
  {
   "cell_type": "code",
   "execution_count": 56,
   "metadata": {},
   "outputs": [],
   "source": [
    "drone2_gyro_data = DataContianer(drone4, 'gyro', 4)"
   ]
  },
  {
   "cell_type": "code",
   "execution_count": 57,
   "metadata": {},
   "outputs": [
    {
     "data": {
      "text/html": [
       "<div>\n",
       "<style scoped>\n",
       "    .dataframe tbody tr th:only-of-type {\n",
       "        vertical-align: middle;\n",
       "    }\n",
       "\n",
       "    .dataframe tbody tr th {\n",
       "        vertical-align: top;\n",
       "    }\n",
       "\n",
       "    .dataframe thead th {\n",
       "        text-align: right;\n",
       "    }\n",
       "</style>\n",
       "<table border=\"1\" class=\"dataframe\">\n",
       "  <thead>\n",
       "    <tr style=\"text-align: right;\">\n",
       "      <th></th>\n",
       "      <th>mu_x_gyro</th>\n",
       "      <th>mu_y_gyro</th>\n",
       "      <th>mu_z_gyro</th>\n",
       "      <th>std_x_gyro</th>\n",
       "      <th>std_y_gyro</th>\n",
       "      <th>std_z_gyro</th>\n",
       "      <th>avg_resultant_acc_gyro</th>\n",
       "      <th>bin_0_gyro</th>\n",
       "      <th>bin_1_gyro</th>\n",
       "      <th>bin_2_gyro</th>\n",
       "      <th>...</th>\n",
       "      <th>bin_23_gyro</th>\n",
       "      <th>bin_24_gyro</th>\n",
       "      <th>bin_25_gyro</th>\n",
       "      <th>bin_26_gyro</th>\n",
       "      <th>bin_27_gyro</th>\n",
       "      <th>bin_28_gyro</th>\n",
       "      <th>bin_29_gyro</th>\n",
       "      <th>mean_abs_difference_x_gyro</th>\n",
       "      <th>mean_abs_difference_y_gyro</th>\n",
       "      <th>mean_abs_difference_z_gyro</th>\n",
       "    </tr>\n",
       "  </thead>\n",
       "  <tbody>\n",
       "    <tr>\n",
       "      <th>0</th>\n",
       "      <td>0.053319</td>\n",
       "      <td>0.00105</td>\n",
       "      <td>-0.03211</td>\n",
       "      <td>36.093601</td>\n",
       "      <td>34.920041</td>\n",
       "      <td>11.726316</td>\n",
       "      <td>46.459453</td>\n",
       "      <td>4.367111</td>\n",
       "      <td>5.691984</td>\n",
       "      <td>9.429317</td>\n",
       "      <td>...</td>\n",
       "      <td>12.167954</td>\n",
       "      <td>13.897529</td>\n",
       "      <td>13.705762</td>\n",
       "      <td>12.478479</td>\n",
       "      <td>10.07662</td>\n",
       "      <td>7.710946</td>\n",
       "      <td>6.969399</td>\n",
       "      <td>28.831679</td>\n",
       "      <td>27.826582</td>\n",
       "      <td>9.417632</td>\n",
       "    </tr>\n",
       "  </tbody>\n",
       "</table>\n",
       "<p>1 rows × 40 columns</p>\n",
       "</div>"
      ],
      "text/plain": [
       "   mu_x_gyro  mu_y_gyro  mu_z_gyro  std_x_gyro  std_y_gyro  std_z_gyro  \\\n",
       "0   0.053319    0.00105   -0.03211   36.093601   34.920041   11.726316   \n",
       "\n",
       "   avg_resultant_acc_gyro  bin_0_gyro  bin_1_gyro  bin_2_gyro  \\\n",
       "0               46.459453    4.367111    5.691984    9.429317   \n",
       "\n",
       "              ...              bin_23_gyro  bin_24_gyro  bin_25_gyro  \\\n",
       "0             ...                12.167954    13.897529    13.705762   \n",
       "\n",
       "   bin_26_gyro  bin_27_gyro  bin_28_gyro  bin_29_gyro  \\\n",
       "0    12.478479     10.07662     7.710946     6.969399   \n",
       "\n",
       "   mean_abs_difference_x_gyro  mean_abs_difference_y_gyro  \\\n",
       "0                   28.831679                   27.826582   \n",
       "\n",
       "   mean_abs_difference_z_gyro  \n",
       "0                    9.417632  \n",
       "\n",
       "[1 rows x 40 columns]"
      ]
     },
     "execution_count": 57,
     "metadata": {},
     "output_type": "execute_result"
    }
   ],
   "source": [
    "pd.DataFrame(drone2_gyro_data.X_train_transformed[drone2_gyro_data.y_train_transformed==3].mean()).T"
   ]
  },
  {
   "cell_type": "code",
   "execution_count": 58,
   "metadata": {},
   "outputs": [
    {
     "data": {
      "text/html": [
       "<div>\n",
       "<style scoped>\n",
       "    .dataframe tbody tr th:only-of-type {\n",
       "        vertical-align: middle;\n",
       "    }\n",
       "\n",
       "    .dataframe tbody tr th {\n",
       "        vertical-align: top;\n",
       "    }\n",
       "\n",
       "    .dataframe thead th {\n",
       "        text-align: right;\n",
       "    }\n",
       "</style>\n",
       "<table border=\"1\" class=\"dataframe\">\n",
       "  <thead>\n",
       "    <tr style=\"text-align: right;\">\n",
       "      <th></th>\n",
       "      <th>mu_x_gyro</th>\n",
       "      <th>mu_y_gyro</th>\n",
       "      <th>mu_z_gyro</th>\n",
       "      <th>std_x_gyro</th>\n",
       "      <th>std_y_gyro</th>\n",
       "      <th>std_z_gyro</th>\n",
       "      <th>avg_resultant_acc_gyro</th>\n",
       "      <th>bin_0_gyro</th>\n",
       "      <th>bin_1_gyro</th>\n",
       "      <th>bin_2_gyro</th>\n",
       "      <th>...</th>\n",
       "      <th>bin_23_gyro</th>\n",
       "      <th>bin_24_gyro</th>\n",
       "      <th>bin_25_gyro</th>\n",
       "      <th>bin_26_gyro</th>\n",
       "      <th>bin_27_gyro</th>\n",
       "      <th>bin_28_gyro</th>\n",
       "      <th>bin_29_gyro</th>\n",
       "      <th>mean_abs_difference_x_gyro</th>\n",
       "      <th>mean_abs_difference_y_gyro</th>\n",
       "      <th>mean_abs_difference_z_gyro</th>\n",
       "    </tr>\n",
       "  </thead>\n",
       "  <tbody>\n",
       "    <tr>\n",
       "      <th>0</th>\n",
       "      <td>0.158694</td>\n",
       "      <td>0.047239</td>\n",
       "      <td>-0.048753</td>\n",
       "      <td>28.191177</td>\n",
       "      <td>24.491496</td>\n",
       "      <td>15.758707</td>\n",
       "      <td>37.120659</td>\n",
       "      <td>4.501722</td>\n",
       "      <td>5.550918</td>\n",
       "      <td>8.90094</td>\n",
       "      <td>...</td>\n",
       "      <td>11.221197</td>\n",
       "      <td>12.023879</td>\n",
       "      <td>11.623892</td>\n",
       "      <td>10.970101</td>\n",
       "      <td>9.615431</td>\n",
       "      <td>8.559212</td>\n",
       "      <td>9.106752</td>\n",
       "      <td>22.224661</td>\n",
       "      <td>19.426989</td>\n",
       "      <td>12.899492</td>\n",
       "    </tr>\n",
       "  </tbody>\n",
       "</table>\n",
       "<p>1 rows × 40 columns</p>\n",
       "</div>"
      ],
      "text/plain": [
       "   mu_x_gyro  mu_y_gyro  mu_z_gyro  std_x_gyro  std_y_gyro  std_z_gyro  \\\n",
       "0   0.158694   0.047239  -0.048753   28.191177   24.491496   15.758707   \n",
       "\n",
       "   avg_resultant_acc_gyro  bin_0_gyro  bin_1_gyro  bin_2_gyro  \\\n",
       "0               37.120659    4.501722    5.550918     8.90094   \n",
       "\n",
       "              ...              bin_23_gyro  bin_24_gyro  bin_25_gyro  \\\n",
       "0             ...                11.221197    12.023879    11.623892   \n",
       "\n",
       "   bin_26_gyro  bin_27_gyro  bin_28_gyro  bin_29_gyro  \\\n",
       "0    10.970101     9.615431     8.559212     9.106752   \n",
       "\n",
       "   mean_abs_difference_x_gyro  mean_abs_difference_y_gyro  \\\n",
       "0                   22.224661                   19.426989   \n",
       "\n",
       "   mean_abs_difference_z_gyro  \n",
       "0                   12.899492  \n",
       "\n",
       "[1 rows x 40 columns]"
      ]
     },
     "execution_count": 58,
     "metadata": {},
     "output_type": "execute_result"
    }
   ],
   "source": [
    "pd.DataFrame(drone2_gyro_data.X_train_transformed[drone2_gyro_data.y_train_transformed==2].mean()).T"
   ]
  },
  {
   "cell_type": "code",
   "execution_count": null,
   "metadata": {},
   "outputs": [],
   "source": []
  }
 ],
 "metadata": {
  "kernelspec": {
   "display_name": "Python 3",
   "language": "python",
   "name": "python3"
  },
  "language_info": {
   "codemirror_mode": {
    "name": "ipython",
    "version": 3
   },
   "file_extension": ".py",
   "mimetype": "text/x-python",
   "name": "python",
   "nbconvert_exporter": "python",
   "pygments_lexer": "ipython3",
   "version": "3.7.0"
  }
 },
 "nbformat": 4,
 "nbformat_minor": 1
}
